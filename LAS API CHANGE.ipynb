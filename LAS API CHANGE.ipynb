{
 "cells": [
  {
   "cell_type": "markdown",
   "metadata": {},
   "source": [
    "# Import Necessary Modules"
   ]
  },
  {
   "cell_type": "code",
   "execution_count": null,
   "metadata": {},
   "outputs": [],
   "source": [
    "import lasio as ls\n",
    "import os"
   ]
  },
  {
   "cell_type": "markdown",
   "metadata": {},
   "source": [
    "# Create a List of All .las Files in Folder"
   ]
  },
  {
   "cell_type": "code",
   "execution_count": null,
   "metadata": {},
   "outputs": [],
   "source": [
    "las_file_list = []\n",
    "path = 'Input Folder' # Paste Input Folder path containing .las files\n",
    "\n",
    "files = os.listdir(path)\n",
    "\n",
    "for file in files:\n",
    "    if file.lower().endswith('.las'):\n",
    "        las_file_list.append(path + '\\\\' + file)"
   ]
  },
  {
   "cell_type": "markdown",
   "metadata": {},
   "source": [
    "# Parse Through All .las Files to Modify API Numbers\n",
    "* Code accounts for no API in header by creating an API from the reported UWI, if available\n",
    "* Additional If/Elif statements can be incorporated based on API formatting\n",
    "* Current version overwrites existing file\n",
    "* Exceptions will allow you to run through certain errors.  File name associated with those files with errors (and not fixed) will output below"
   ]
  },
  {
   "cell_type": "code",
   "execution_count": null,
   "metadata": {},
   "outputs": [],
   "source": [
    "for las in las_file_list:\n",
    "    try:\n",
    "        \n",
    "        fname = os.path.basename(las)\n",
    "        las = ls.read(las)\n",
    "        \n",
    "    except Exception:\n",
    "        print('Some Other Error for:', fname)\n",
    "        continue  \n",
    "    \n",
    "    try:\n",
    "        las.well.API\n",
    "    except AttributeError:\n",
    "        try:\n",
    "            las.well.API = ls.HeaderItem(mnemonic='API', value=las.well.UWI.value, descr='API')\n",
    "        except AttributeError:\n",
    "            print('No API or UWI Found for:', fname)\n",
    "          \n",
    "    try:\n",
    "\n",
    "        if '-' in las.well.API.value and len(las.well.API.value) == 12:\n",
    "            las.well.API = str(int(las.well.API.value.replace('-',''))*10000) \n",
    "\n",
    "        elif '-' in las.well.API.value and len(las.well.API.value) == 17:\n",
    "            las.well.API = str(int(las.well.API.value.replace('-',''))) \n",
    "\n",
    "        elif len(las.well.API.value) == 12:\n",
    "            las.well.API = str(int(las.well.API.value) * 100) \n",
    "\n",
    "        elif len(las.well.API.value) == 10:\n",
    "            las.well.API = str(int(las.well.API.value) * 10000)\n",
    "    except Exception:\n",
    "        print('Some Other Error for:', fname)\n",
    "        continue\n",
    "               \n",
    "    with open('Output Folder' + fname, mode='w') as f: # Insert Output Folder path at Output Folder location\n",
    "        las.write(f, version=2.0)"
   ]
  },
  {
   "cell_type": "code",
   "execution_count": null,
   "metadata": {},
   "outputs": [],
   "source": []
  }
 ],
 "metadata": {
  "kernelspec": {
   "display_name": "Python 3",
   "language": "python",
   "name": "python3"
  },
  "language_info": {
   "codemirror_mode": {
    "name": "ipython",
    "version": 3
   },
   "file_extension": ".py",
   "mimetype": "text/x-python",
   "name": "python",
   "nbconvert_exporter": "python",
   "pygments_lexer": "ipython3",
   "version": "3.8.8"
  }
 },
 "nbformat": 4,
 "nbformat_minor": 4
}
