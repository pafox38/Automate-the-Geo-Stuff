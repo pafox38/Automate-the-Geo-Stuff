{
 "cells": [
  {
   "cell_type": "markdown",
   "metadata": {},
   "source": [
    "# Import Necessary Modules"
   ]
  },
  {
   "cell_type": "code",
   "execution_count": 78,
   "metadata": {},
   "outputs": [],
   "source": [
    "import lasio as ls\n",
    "import os"
   ]
  },
  {
   "cell_type": "markdown",
   "metadata": {},
   "source": [
    "# Create a List of All .las Files in Folder"
   ]
  },
  {
   "cell_type": "code",
   "execution_count": 79,
   "metadata": {},
   "outputs": [],
   "source": [
    "las_file_list = []\n",
    "path = # Paste path to folder of .las files\n",
    "\n",
    "files = os.listdir(path)\n",
    "\n",
    "for file in files:\n",
    "    if file.lower().endswith('.las'):\n",
    "        las_file_list.append(path + '\\\\' + file)"
   ]
  },
  {
   "cell_type": "markdown",
   "metadata": {},
   "source": [
    "# Parse Through All .las Files to Modify API Numbers\n",
    "* Additional If/Elif statements can be incorporated based on API formatting\n",
    "* The new .las file is saved using the new API number for the well\n",
    "* Exceptions will allow you to run through certain errors.  Well names associated with those files with errors will output below"
   ]
  },
  {
   "cell_type": "code",
   "execution_count": 81,
   "metadata": {},
   "outputs": [
    {
     "name": "stdout",
     "output_type": "stream",
     "text": [
      "API Error R.K. HARLAN #11\n"
     ]
    }
   ],
   "source": [
    "for las in las_file_list:\n",
    "    \n",
    "    las = ls.read(las) \n",
    "   \n",
    "    try:\n",
    "        if '-' in las.well.API.value and len(las.well.API.value) == 12:\n",
    "            las.well.API = str(int(las.well.API.value.replace('-',''))*10000) \n",
    "\n",
    "        elif len(las.well.API.value) == 12:\n",
    "            las.well.API = str(int(las.well.API.value) * 100) \n",
    "            \n",
    "        elif len(las.well.API.value) == 10:\n",
    "            las.well.API = str(int(las.well.API.value) * 10000)\n",
    "    \n",
    "    except AttributeError:\n",
    "        print('API Error', las.well.WELL.value)\n",
    "        continue\n",
    "    \n",
    "    except Exception:\n",
    "        print('Another Error', las.well.WELL.value)\n",
    "        continue\n",
    "        \n",
    "    name = las.well.API.value   \n",
    "    \n",
    "    with open(# Insert folder for outputs + name + '.las', mode='w') as f:\n",
    "        las.write(f, version=2.0)"
   ]
  },
  {
   "cell_type": "code",
   "execution_count": null,
   "metadata": {},
   "outputs": [],
   "source": []
  }
 ],
 "metadata": {
  "kernelspec": {
   "display_name": "Python 3",
   "language": "python",
   "name": "python3"
  },
  "language_info": {
   "codemirror_mode": {
    "name": "ipython",
    "version": 3
   },
   "file_extension": ".py",
   "mimetype": "text/x-python",
   "name": "python",
   "nbconvert_exporter": "python",
   "pygments_lexer": "ipython3",
   "version": "3.8.8"
  }
 },
 "nbformat": 4,
 "nbformat_minor": 4
}
