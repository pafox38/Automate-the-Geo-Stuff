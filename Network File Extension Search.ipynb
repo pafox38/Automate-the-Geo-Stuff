{
 "cells": [
  {
   "cell_type": "markdown",
   "metadata": {
    "slideshow": {
     "slide_type": "-"
    }
   },
   "source": [
    "# Search for Files with Extension and Print Results to CSV"
   ]
  },
  {
   "cell_type": "code",
   "execution_count": null,
   "metadata": {
    "scrolled": true
   },
   "outputs": [],
   "source": [
    "import os\n",
    "import pandas as pd\n",
    "\n",
    "# Enter file extension search criteria\n",
    "extension = '.las'\n",
    "\n",
    "# Enter folder between r' ' to search\n",
    "folder = input('Please enter folder path in which you want to search for files: ')\n",
    "\n",
    "# Enter file path and a name for the CSV storage file between r' '.   Results of the query will be saved here\n",
    "results = input('Please enter a file path and CSV file name for the output: ')\n",
    "\n",
    "file_list = []\n",
    "for root, dirs, files in os.walk(folder):\n",
    "    for file in files:\n",
    "        if file.endswith(extension):\n",
    "            file_list.append(os.path.join(root, file))\n",
    "\n",
    "header = \"File Path\"\n",
    "with open(results + '.txt', 'w') as f:\n",
    "    f.write(header + \"\\n\")\n",
    "    for row in file_list:\n",
    "        f.write(\"%s\\n\" % str(row))\n",
    "read_file = pd.read_csv(results+'.txt')\n",
    "read_file.to_csv(results + '.csv', index=None)\n",
    "os.remove(results + '.txt')"
   ]
  }
 ],
 "metadata": {
  "kernelspec": {
   "display_name": "Python 3",
   "language": "python",
   "name": "python3"
  },
  "language_info": {
   "codemirror_mode": {
    "name": "ipython",
    "version": 3
   },
   "file_extension": ".py",
   "mimetype": "text/x-python",
   "name": "python",
   "nbconvert_exporter": "python",
   "pygments_lexer": "ipython3",
   "version": "3.8.8"
  }
 },
 "nbformat": 4,
 "nbformat_minor": 4
}
