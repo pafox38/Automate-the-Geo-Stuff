{
 "cells": [
  {
   "cell_type": "code",
   "execution_count": null,
   "id": "90973522",
   "metadata": {},
   "outputs": [],
   "source": [
    "import lasio as ls\n",
    "import pandas as pd\n",
    "import numpy as np\n",
    "import re"
   ]
  },
  {
   "cell_type": "code",
   "execution_count": null,
   "id": "1b97c012",
   "metadata": {},
   "outputs": [],
   "source": [
    "las = ls.read(input('Enter file path including .las file name: '))"
   ]
  },
  {
   "cell_type": "code",
   "execution_count": null,
   "id": "c1c76d66",
   "metadata": {},
   "outputs": [],
   "source": [
    "welldf = las.df()\n",
    "welldf.head()"
   ]
  },
  {
   "cell_type": "code",
   "execution_count": null,
   "id": "bfcda3c4",
   "metadata": {},
   "outputs": [],
   "source": [
    "# Curve Alias Table.  Please add as you see fit\n",
    "GR = r'\\b' + '(GRR|GRTO|GRGC|GRC)' + r'\\b'\n",
    "NPHI = r'\\b' + '(PHIN|CNC|NPHL|NPRL)' + r'\\b'\n",
    "RT = r'\\b' + '(ILD|RTAO|RT90|RD|RILD)' + r'\\b'\n",
    "RHOB = r'\\b' + '(ZDNC|RHOZ|ZDEN|DEN)' + r'\\b'\n",
    "PE = r'\\b' + '(PEZ|PEF|PDPE|PEDF)' + r'\\b'\n",
    "CALI = r'\\b' + '(CAL|DCAL|CALD|CALIPER|CALIP)' + r'\\b'\n",
    "ROP = r'\\b' + '(ROPI|ROP_FHR)' + r'\\b'\n",
    "DTC = r'\\b' + '(DT|DTCO|DTCOMP)' + r'\\b'\n",
    "\n",
    "welldf.rename(columns = {element: re.sub(GR, 'GR', element) for element in welldf.columns.tolist()}, inplace = True)\n",
    "welldf.rename(columns = {element: re.sub(NPHI, 'NPHI', element) for element in welldf.columns.tolist()}, inplace = True)\n",
    "welldf.rename(columns = {element: re.sub(RT, 'RT', element) for element in welldf.columns.tolist()}, inplace = True)\n",
    "welldf.rename(columns = {element: re.sub(RHOB, 'RHOB', element) for element in welldf.columns.tolist()}, inplace = True)\n",
    "welldf.rename(columns = {element: re.sub(PE, 'PE', element) for element in welldf.columns.tolist()}, inplace = True)\n",
    "welldf.rename(columns = {element: re.sub(CALI, 'CALI', element) for element in welldf.columns.tolist()}, inplace = True)\n",
    "welldf.rename(columns = {element: re.sub(ROP, 'ROP', element) for element in welldf.columns.tolist()}, inplace = True)\n",
    "welldf.rename(columns = {element: re.sub(DTC, 'DTC', element) for element in welldf.columns.tolist()}, inplace = True)"
   ]
  }
 ],
 "metadata": {
  "kernelspec": {
   "display_name": "Python 3",
   "language": "python",
   "name": "python3"
  },
  "language_info": {
   "codemirror_mode": {
    "name": "ipython",
    "version": 3
   },
   "file_extension": ".py",
   "mimetype": "text/x-python",
   "name": "python",
   "nbconvert_exporter": "python",
   "pygments_lexer": "ipython3",
   "version": "3.8.8"
  }
 },
 "nbformat": 4,
 "nbformat_minor": 5
}
